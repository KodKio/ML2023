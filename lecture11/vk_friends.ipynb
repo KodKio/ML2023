{
 "cells": [
  {
   "cell_type": "code",
   "execution_count": null,
   "id": "fd224a13",
   "metadata": {},
   "outputs": [],
   "source": [
    "!pip install vk"
   ]
  },
  {
   "cell_type": "code",
   "execution_count": null,
   "id": "2c437e8b",
   "metadata": {},
   "outputs": [],
   "source": [
    "import vk\n",
    "import json"
   ]
  },
  {
   "cell_type": "code",
   "execution_count": null,
   "id": "7ed9db1a",
   "metadata": {},
   "outputs": [],
   "source": [
    "data_path = \"./data\""
   ]
  },
  {
   "cell_type": "markdown",
   "id": "6b418f37",
   "metadata": {},
   "source": [
    "Сначала получаем токен:\n",
    "* Нужно [создать](https://vk.com/apps?act=manage) свое тестовое приложение.\n",
    "* Включить, сделать публичным (в настройках).\n",
    "* Авторизоваться: из настроек скопировать client_id (ID приложения), вставить в параметр client_id вместо 0 и перейти по получившейся ссылке в браузере. В данном случае мы используем scope=friends, его нам будет достаточно, однако можно получить доступ ко всем необходимым частям аккаунта, список скоупов можно найти [тут](https://dev.vk.com/reference/access-rights).\n",
    "> ```https://oauth.vk.com/authorize?client_id=0&display=page&redirect_uri=http://oauth.vk.com/blank.html&scope=friends&response_type=token```\n",
    "* Скопировать значение поля access_token из обновленной адресной строки (если вы авторизованы уже были в браузере в вк, то вас сразу средиректит, иначе надо будет сначала залогиниться).\n",
    "* <b>!!! Не светите нигде полученный токен, по нему можно получить полный доступ к аккаунту!!!</b>\n",
    "* Важный момент: токен не заработает в колабе и скорее всего в ноутбуке на внешнем сервере, так как он привязывается к ip адресу, где он был выдан."
   ]
  },
  {
   "cell_type": "code",
   "execution_count": null,
   "id": "03b623a2",
   "metadata": {},
   "outputs": [],
   "source": [
    "token = \"\""
   ]
  },
  {
   "cell_type": "code",
   "execution_count": null,
   "id": "2f6d51a9",
   "metadata": {},
   "outputs": [],
   "source": [
    "api = vk.API(access_token = token)"
   ]
  },
  {
   "cell_type": "code",
   "execution_count": null,
   "id": "31af9015",
   "metadata": {},
   "outputs": [],
   "source": [
    "# Ваш id ВКонтакте, можно посмотреть в настройках\n",
    "VKID = ..."
   ]
  },
  {
   "cell_type": "markdown",
   "id": "96d0c955",
   "metadata": {},
   "source": [
    "Все готово! Доступные методы и их параметры можно найти в [официальной доке](https://dev.vk.com/reference)."
   ]
  },
  {
   "cell_type": "markdown",
   "id": "1e62b792",
   "metadata": {},
   "source": [
    "Получим свой список друзей для начала."
   ]
  },
  {
   "cell_type": "code",
   "execution_count": null,
   "id": "e914d0b5",
   "metadata": {},
   "outputs": [],
   "source": [
    "# Все доступные поля для v=5.131 версии апи, выкинул только различные ссылки на аватарку\n",
    "fields = \"bdate,can_post,can_see_all_posts,can_write_private_message,city,contacts,country,domain,education,has_mobile,timezone,last_seen,nickname,online,relation,sex,status,universities\""
   ]
  },
  {
   "cell_type": "code",
   "execution_count": null,
   "id": "f08d57e0",
   "metadata": {},
   "outputs": [],
   "source": [
    "friends = api.friends.get(user_id=VKID, fields=fields, v=5.131)"
   ]
  },
  {
   "cell_type": "code",
   "execution_count": null,
   "id": "c022d2d3",
   "metadata": {},
   "outputs": [],
   "source": [
    "friends"
   ]
  },
  {
   "cell_type": "markdown",
   "id": "ab76d8a7",
   "metadata": {},
   "source": [
    "В ответе count -- число друзей (item-ов), items -- собственно сам список друзей с инфой о них. Сохраним json с данными."
   ]
  },
  {
   "cell_type": "code",
   "execution_count": null,
   "id": "e6321ace",
   "metadata": {},
   "outputs": [],
   "source": [
    "with open(f\"{data_path}/friends_{VKID}.json\", \"w\") as f:\n",
    "    json.dump(friends[\"items\"], f, indent=2)"
   ]
  },
  {
   "cell_type": "markdown",
   "id": "acdca5da",
   "metadata": {},
   "source": [
    "Теперь получим общих друзей. Единственная тонкость в текущей версии апи: если страница друга удалена, то апи вернет ошибку на весь запрос. Поэтому исключим таких пользователей (у них появляется поле deactivated в инфо)."
   ]
  },
  {
   "cell_type": "code",
   "execution_count": null,
   "id": "d698cff4",
   "metadata": {},
   "outputs": [],
   "source": [
    "common_friends = api.friends.getMutual(\n",
    "    source_uid=VKID, target_uids=[fr[\"id\"] for fr in friends[\"items\"] if \"deactivated\" not in fr], v=5.131)"
   ]
  },
  {
   "cell_type": "code",
   "execution_count": null,
   "id": "8a55fc5e",
   "metadata": {},
   "outputs": [],
   "source": [
    "# Переделаем немного структуру из ответа и сохраним\n",
    "with open(f\"{data_path}/common_friends_{VKID}.json\", \"w\") as f:\n",
    "    json.dump({x[\"id\"]: x[\"common_friends\"] for x in common_friends}, f, indent=2)"
   ]
  },
  {
   "cell_type": "code",
   "execution_count": null,
   "id": "3bad4713",
   "metadata": {},
   "outputs": [],
   "source": []
  }
 ],
 "metadata": {
  "kernelspec": {
   "display_name": "Python 3 (ipykernel)",
   "language": "python",
   "name": "python3"
  },
  "language_info": {
   "codemirror_mode": {
    "name": "ipython",
    "version": 3
   },
   "file_extension": ".py",
   "mimetype": "text/x-python",
   "name": "python",
   "nbconvert_exporter": "python",
   "pygments_lexer": "ipython3",
   "version": "3.10.9"
  }
 },
 "nbformat": 4,
 "nbformat_minor": 5
}
